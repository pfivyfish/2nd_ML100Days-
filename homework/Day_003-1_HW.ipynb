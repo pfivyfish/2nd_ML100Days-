{
 "cells": [
  {
   "cell_type": "markdown",
   "metadata": {},
   "source": [
    "## 練習時間\n",
    "在小量的資料上，我們用眼睛就可以看得出來程式碼是否有跑出我們理想中的結果\n",
    "\n",
    "請嘗試想像一個你需要的資料結構 (裡面的值可以是隨機的)，然後用上述的方法把它變成 pandas DataFrame\n",
    "\n",
    "#### Ex: 想像一個 dataframe 有兩個欄位，一個是國家，一個是人口，求人口數最多的國家\n",
    "\n",
    "### Hints: [隨機產生數值](https://blog.csdn.net/christianashannon/article/details/78867204)"
   ]
  },
  {
   "cell_type": "code",
   "execution_count": 1,
   "metadata": {},
   "outputs": [],
   "source": [
    "import pandas as pd\n",
    "import numpy as np"
   ]
  },
  {
   "cell_type": "code",
   "execution_count": 6,
   "metadata": {},
   "outputs": [
    {
     "name": "stdout",
     "output_type": "stream",
     "text": [
      "   country  population\n",
      "0   Taiwan    0.334710\n",
      "1      USA    0.053343\n",
      "2       UK    0.561076\n",
      "3   France    0.747019\n",
      "4  Germany    0.997627\n",
      "5    Japon    0.792559\n",
      "6    Korea    0.439777\n",
      "7    China    0.675521\n"
     ]
    }
   ],
   "source": [
    "country = ['Taiwan', 'USA', 'UK', 'France', 'Germany', 'Japon', 'Korea', 'China']\n",
    "\n",
    "numOfCountry = len(country)\n",
    "population = np.random.rand(numOfCountry)\n",
    "\n",
    "data = {'country': country,\n",
    "        'population': population}\n",
    "data = pd.DataFrame(data)\n",
    "print(data)"
   ]
  },
  {
   "cell_type": "code",
   "execution_count": 11,
   "metadata": {},
   "outputs": [
    {
     "name": "stdout",
     "output_type": "stream",
     "text": [
      "the index of the country with maximum population:  4\n"
     ]
    }
   ],
   "source": [
    "idxMax = data['population'].idxmax()\n",
    "print(\"the index of the country with maximum population: \", idxMax)"
   ]
  },
  {
   "cell_type": "code",
   "execution_count": 14,
   "metadata": {},
   "outputs": [
    {
     "name": "stdout",
     "output_type": "stream",
     "text": [
      "The country with maximum population in the data is:  Germany\n"
     ]
    }
   ],
   "source": [
    "countryWithMaxPopulation = data['country'][4]\n",
    "print(\"The country with maximum population in the data is: \", countryWithMaxPopulation)"
   ]
  },
  {
   "cell_type": "code",
   "execution_count": null,
   "metadata": {},
   "outputs": [],
   "source": []
  }
 ],
 "metadata": {
  "kernelspec": {
   "display_name": "Python 3",
   "language": "python",
   "name": "python3"
  },
  "language_info": {
   "codemirror_mode": {
    "name": "ipython",
    "version": 3
   },
   "file_extension": ".py",
   "mimetype": "text/x-python",
   "name": "python",
   "nbconvert_exporter": "python",
   "pygments_lexer": "ipython3",
   "version": "3.6.8"
  }
 },
 "nbformat": 4,
 "nbformat_minor": 2
}
